{
 "cells": [
  {
   "cell_type": "code",
   "execution_count": 1,
   "id": "b9d8831e",
   "metadata": {},
   "outputs": [
    {
     "name": "stdout",
     "output_type": "stream",
     "text": [
      "Welcome to JupyROOT 6.28/00\n"
     ]
    }
   ],
   "source": [
    "from ROOT import TMVA, TFile, TTree, TCut\n",
    "from subprocess import call\n",
    "from os.path import isfile\n",
    "from array import array\n",
    "import torch\n",
    "from torch import nn\n",
    "import numpy as np\n",
    "import ROOT"
   ]
  },
  {
   "cell_type": "code",
   "execution_count": null,
   "id": "b6e93e6f",
   "metadata": {},
   "outputs": [],
   "source": [
    "TMVA.Tools.Instance()\n",
    "TMVA.PyMethodBase.PyInitialize()\n",
    " \n",
    "output = TFile.Open('TMVAtestvbf.root', 'RECREATE')\n",
    "\n",
    "\n",
    "factory = TMVA.Factory('TMVAClassification', output,\n",
    "                       '!V:ROC:!Silent:Color:DrawProgressBar:Transformations=D,G:AnalysisType=Classification')"
   ]
  },
  {
   "cell_type": "code",
   "execution_count": null,
   "id": "7fbb2d80",
   "metadata": {},
   "outputs": [],
   "source": [
    "sigfile=TFile.Open('signal_tree.root')\n",
    "backfile=TFile.Open('background_tree.root')\n",
    "sigtrain = sigfile.Get('EventTree')\n",
    "backtrain = backfile.Get('EventTree')\n",
    "dataloader = TMVA.DataLoader('dataset') #load dataset, name it dataset\n",
    "dataloader.AddVariable('pt')\n",
    "dataloader.AddVariable('eta')\n",
    "dataloader.AddVariable('time30') #change this line based on desired time smearing\n",
    "dataloader.AddSignalTree(sigtrain, 1.0)  #adds data from signal tree to dataset\n",
    "dataloader.AddBackgroundTree(backtrain, 1.0) #adds data from background tree to dataset\n",
    "dataloader.PrepareTrainingAndTestTree(TCut(''),\n",
    "                                      'nTrain_Signal=464627:nTrain_Background=438219:SplitMode=Random:NormMode=NumEvents:!V') \n"
   ]
  },
  {
   "cell_type": "code",
   "execution_count": null,
   "id": "9102da6f",
   "metadata": {},
   "outputs": [],
   "source": [
    "model = nn.Sequential()  #sequential is used when creating models so that the output of the first module is passed to the next and so on\n",
    "model.add_module('linear_1', nn.Linear(in_features=3, out_features=64))  #applies a linear transformation to incoming data\n",
    "model.add_module('relu', nn.ReLU()) #activation function, will output input if it is positive or output 0 otherwise, this applies the function to each element\n",
    "model.add_module('linear_2', nn.Linear(in_features=64, out_features=2)) \n",
    "model.add_module('softmax', nn.Softmax(dim=1)) #rescales input so that output elements are in range [0,1] and sum to 1"
   ]
  },
  {
   "cell_type": "code",
   "execution_count": null,
   "id": "f9d10ecc",
   "metadata": {},
   "outputs": [],
   "source": [
    "# Construct loss function and Optimizer.\n",
    "loss = torch.nn.MSELoss() #measures mean squared error between each element in input x and target y\n",
    "optimizer = torch.optim.SGD #implements stochastic gradient descent"
   ]
  },
  {
   "cell_type": "code",
   "execution_count": null,
   "id": "9f5c2ce5",
   "metadata": {},
   "outputs": [],
   "source": [
    "# Define train function\n",
    "def train(model, train_loader, val_loader, num_epochs, batch_size, optimizer, criterion, save_best, scheduler):\n",
    "    trainer = optimizer(model.parameters(), lr=0.01) \n",
    "    schedule, schedulerSteps = scheduler #a schedule makes the learning rate adaptive to the gradient descent optimization\n",
    "    best_val = None\n",
    " \n",
    "    for epoch in range(num_epochs): #data is fed in bunches, each epoch contains many bunches \n",
    "        # Training Loop\n",
    "        # Set to train mode\n",
    "        model.train() \n",
    "        running_train_loss = 0.0\n",
    "        running_val_loss = 0.0\n",
    "        for i, (X, y) in enumerate(train_loader):  \n",
    "            trainer.zero_grad() #zero the gradients for each batch \n",
    "            output = model(X) \n",
    "            train_loss = criterion(output, y) #computes the loss, criterion is the specific loss we want to minimize \n",
    "            train_loss.backward() #calculate the gradients\n",
    "            trainer.step() #adjust the learning weights\n",
    " \n",
    "            # print train statistics\n",
    "            running_train_loss += train_loss.item()\n",
    "            if i % 32 == 31:    # print every 32 mini-batches\n",
    "                print(\"[{}, {}] train loss: {:.3f}\".format(epoch+1, i+1, running_train_loss / 32))\n",
    "                running_train_loss = 0.0\n",
    " \n",
    "        if schedule:\n",
    "            schedule(optimizer, epoch, schedulerSteps) #updates learning rate in each epoch\n",
    " \n",
    "        # Validation Loop\n",
    "        # Set to eval mode\n",
    "        model.eval() \n",
    "        with torch.no_grad():\n",
    "            for i, (X, y) in enumerate(val_loader): #our validation dataset which is separate from the training set\n",
    "                output = model(X) #pass data through model\n",
    "                val_loss = criterion(output, y) #find the loss\n",
    "                running_val_loss += val_loss.item() #calculate loss\n",
    " \n",
    "            curr_val = running_val_loss / len(val_loader) \n",
    "            if save_best:\n",
    "               if best_val==None:\n",
    "                   best_val = curr_val  #track best performance\n",
    "               best_val = save_best(model, curr_val, best_val)\n",
    " \n",
    "            # print val statistics per epoch\n",
    "            print(\"[{}] val loss: {:.3f}\".format(epoch+1, curr_val))\n",
    "            running_val_loss = 0.0\n",
    " \n",
    "    print(\"Finished Training on {} Epochs!\".format(epoch+1))\n",
    " \n",
    "    return model"
   ]
  },
  {
   "cell_type": "code",
   "execution_count": null,
   "id": "b9cc6bd7",
   "metadata": {},
   "outputs": [],
   "source": [
    "# Define predict function\n",
    "def predict(model, test_X, batch_size=32):\n",
    "    # Set to eval mode\n",
    "    model.eval() \n",
    " \n",
    "    test_dataset = torch.utils.data.TensorDataset(torch.Tensor(test_X)) \n",
    "    test_loader = torch.utils.data.DataLoader(test_dataset, batch_size=batch_size, shuffle=False)  #load testing data\n",
    " \n",
    "    predictions = []\n",
    "    with torch.no_grad():\n",
    "        for i, data in enumerate(test_loader):\n",
    "            X = data[0] \n",
    "            outputs = model(X)\n",
    "            predictions.append(outputs)\n",
    "        preds = torch.cat(predictions) #concatenates the sequence of prediction tensors\n",
    " \n",
    "    return preds.numpy()"
   ]
  },
  {
   "cell_type": "code",
   "execution_count": null,
   "id": "db54d043",
   "metadata": {},
   "outputs": [],
   "source": [
    "load_model_custom_objects = {\"optimizer\": optimizer, \"criterion\": loss, \"train_func\": train, \"predict_func\": predict} #creates a dictionary for us to specify our parameters within the TMVA interface \n",
    " \n",
    " \n",
    "# Store model to file\n",
    "# Convert the model to torchscript before saving\n",
    "m = torch.jit.script(model)\n",
    "torch.jit.save(m, \"modelClassification.pt\")\n",
    "print(m)\n",
    " "
   ]
  },
  {
   "cell_type": "code",
   "execution_count": null,
   "id": "990c8ccf",
   "metadata": {},
   "outputs": [],
   "source": [
    "#Book the TMVA method we want\n",
    "factory.BookMethod(dataloader, TMVA.Types.kPyTorch, 'Train and test ttbar',\n",
    "                   'H:!V:VarTransform=D,G:FilenameModel=modelClassification.pt:FilenameTrainedModel=trainedModelClassification.pt:NumEpochs=20:BatchSize=32')"
   ]
  },
  {
   "cell_type": "code",
   "execution_count": null,
   "id": "dea8820d",
   "metadata": {},
   "outputs": [],
   "source": [
    "# Run training, test and evaluation\n",
    "factory.TrainAllMethods()\n",
    "factory.TestAllMethods()\n",
    "factory.EvaluateAllMethods()"
   ]
  },
  {
   "cell_type": "code",
   "execution_count": null,
   "id": "a0536245",
   "metadata": {},
   "outputs": [],
   "source": [
    "roc = factory.GetROCCurve(dataloader, 'Train and test ttbar') \n",
    "canvas = ROOT.TCanvas(\"Canvas\",\"a first way to plot a variable\",800,600)\n",
    "canvas.SetGrid()\n",
    "roc.Draw()"
   ]
  }
 ],
 "metadata": {
  "kernelspec": {
   "display_name": "Python 3",
   "language": "python",
   "name": "python3"
  },
  "language_info": {
   "codemirror_mode": {
    "name": "ipython",
    "version": 3
   },
   "file_extension": ".py",
   "mimetype": "text/x-python",
   "name": "python",
   "nbconvert_exporter": "python",
   "pygments_lexer": "ipython3",
   "version": "3.9.12"
  }
 },
 "nbformat": 4,
 "nbformat_minor": 5
}
