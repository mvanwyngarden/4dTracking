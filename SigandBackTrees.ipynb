{
 "cells": [
  {
   "cell_type": "code",
   "execution_count": 1,
   "id": "d37f4fc1",
   "metadata": {},
   "outputs": [
    {
     "name": "stdout",
     "output_type": "stream",
     "text": [
      "Welcome to JupyROOT 6.28/00\n"
     ]
    }
   ],
   "source": [
    "import ROOT\n",
    "import numpy as np\n",
    "from array import array"
   ]
  },
  {
   "cell_type": "code",
   "execution_count": null,
   "id": "c0ea1f4a",
   "metadata": {},
   "outputs": [],
   "source": [
    "data = ROOT.TFile.Open('hadded.root')\n",
    "tree=data.Get('EventTree')"
   ]
  },
  {
   "cell_type": "code",
   "execution_count": null,
   "id": "12bb4cec",
   "metadata": {},
   "outputs": [],
   "source": [
    "#signal variables \n",
    "sigpt=[]\n",
    "sigeta=[]\n",
    "sigtime=[]\n",
    "sigtime30=[]\n",
    "sigtime60=[]\n",
    "sigtime90=[]\n",
    "#background variables\n",
    "backpt=[]\n",
    "backeta=[]\n",
    "backtime=[]\n",
    "backtime30=[]\n",
    "backtime60=[]\n",
    "backtime90=[]\n",
    "\n",
    "for event in tree: \n",
    "    indices=tree.recovertex_tracks_idx[0]\n",
    "    for i in range(len(indices)):\n",
    "        idx=indices[i]\n",
    "        if(tree.track_status[idx]==0):\n",
    "            sigpt.append(np.abs((1e-3/ tree.track_qOverP[idx])*(np.sin(tree.track_theta[idx]))))\n",
    "            theta=tree.track_theta[idx]\n",
    "            eta=-1*np.log(np.tan(theta/2))\n",
    "            sigeta.append(eta)\n",
    "            sigtime.append(tree.track_t[idx]-tree.truthvertex_t[0])\n",
    "            sigtime30.append(tree.track_t30[idx]-tree.truthvertex_t[0])\n",
    "            sigtime60.append(tree.track_t60[idx]-tree.truthvertex_t[0])\n",
    "            sigtime90.append(tree.track_t90[idx]-tree.truthvertex_t[0])\n",
    "        elif(tree.track_status[idx]==1):\n",
    "            backpt.append(np.abs((1e-3/ tree.track_qOverP[idx])*(np.sin(tree.track_theta[idx]))))\n",
    "            theta=tree.track_theta[idx]\n",
    "            eta=-1*np.log(np.tan(theta/2))\n",
    "            backeta.append(eta)\n",
    "            backtime.append(tree.track_t[idx]-tree.truthvertex_t[0])\n",
    "            backtime30.append(tree.track_t30[idx]-tree.truthvertex_t[0])\n",
    "            backtime60.append(tree.track_t60[idx]-tree.truthvertex_t[0])\n",
    "            backtime90.append(tree.track_t90[idx]-tree.truthvertex_t[0])"
   ]
  },
  {
   "cell_type": "code",
   "execution_count": null,
   "id": "d8ca01eb",
   "metadata": {},
   "outputs": [],
   "source": [
    "tree.SetBranchStatus(\"*\",0)\n",
    "new_file=ROOT.TFile.Open(\"signal_tree.root\", \"RECREATE\")\n",
    "signal=tree.CloneTree(0)\n",
    "pt=array('f',[0.])\n",
    "signal.Branch(\"pt\",pt, \"vector<float>\")\n",
    "eta=array('f',[0.])\n",
    "signal.Branch(\"eta\",eta, \"vector<float>\")\n",
    "time=array('f',[0.])\n",
    "signal.Branch(\"time\",time,\"vector<float>\")\n",
    "time30=array('f',[0.])\n",
    "signal.Branch(\"time30\",time30,\"vector<float>\")\n",
    "time60=array('f',[0.])\n",
    "signal.Branch(\"time60\",time60,\"vector<float>\")\n",
    "time90=array('f',[0.])\n",
    "signal.Branch(\"time90\",time90,\"vector<float>\")"
   ]
  },
  {
   "cell_type": "code",
   "execution_count": null,
   "id": "d7fb63d1",
   "metadata": {},
   "outputs": [],
   "source": [
    "tree.SetBranchStatus(\"*\",0)\n",
    "new_file=ROOT.TFile.Open(\"background_tree.root\", \"RECREATE\")\n",
    "background=tree.CloneTree(0)\n",
    "pt=array('f',[0.])\n",
    "background.Branch(\"pt\",pt, \"vector<float>\")\n",
    "eta=array('f',[0.])\n",
    "background.Branch(\"eta\",eta, \"vector<float>\")\n",
    "time=array('f',[0.])\n",
    "background.Branch(\"time\",time,\"vector<float>\")\n",
    "time30=array('f',[0.])\n",
    "background.Branch(\"time30\",time30,\"vector<float>\")\n",
    "time60=array('f',[0.])\n",
    "background.Branch(\"time60\",time60,\"vector<float>\")\n",
    "time90=array('f',[0.])\n",
    "background.Branch(\"time90\",time90,\"vector<float>\")"
   ]
  },
  {
   "cell_type": "code",
   "execution_count": null,
   "id": "11b63a88",
   "metadata": {},
   "outputs": [],
   "source": []
  }
 ],
 "metadata": {
  "kernelspec": {
   "display_name": "Python 3",
   "language": "python",
   "name": "python3"
  },
  "language_info": {
   "codemirror_mode": {
    "name": "ipython",
    "version": 3
   },
   "file_extension": ".py",
   "mimetype": "text/x-python",
   "name": "python",
   "nbconvert_exporter": "python",
   "pygments_lexer": "ipython3",
   "version": "3.9.12"
  }
 },
 "nbformat": 4,
 "nbformat_minor": 5
}
